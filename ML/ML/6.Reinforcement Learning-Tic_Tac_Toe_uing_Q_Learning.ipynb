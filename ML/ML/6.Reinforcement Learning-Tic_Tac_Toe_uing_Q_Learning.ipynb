{
 "cells": [
  {
   "cell_type": "code",
   "execution_count": 5,
   "metadata": {
    "executionInfo": {
     "elapsed": 7,
     "status": "ok",
     "timestamp": 1698316231415,
     "user": {
      "displayName": "HoD AI & DS",
      "userId": "05591951276888072574"
     },
     "user_tz": -330
    },
    "id": "zTYghil36Utc"
   },
   "outputs": [],
   "source": [
    "import numpy as np\n",
    "\n",
    "class TicTacToeEnvironment:\n",
    "    def __init__(self):\n",
    "        self.state = [0] * 9\n",
    "        self.is_terminal = False\n",
    "\n",
    "    def reset(self):\n",
    "        self.state = [0] * 9\n",
    "        self.is_terminal = False\n",
    "\n",
    "    def get_available_moves(self):\n",
    "        return [i for i, mark in enumerate(self.state) if mark == 0]\n",
    "\n",
    "    def make_move(self, move, player_mark):\n",
    "        self.state[move] = player_mark\n",
    "\n",
    "    def check_win(self, player_mark):\n",
    "        winning_states = [\n",
    "            [0, 1, 2], [3, 4, 5], [6, 7, 8],  # rows\n",
    "            [0, 3, 6], [1, 4, 7], [2, 5, 8],  # columns\n",
    "            [0, 4, 8], [2, 4, 6]  # diagonals\n",
    "        ]\n",
    "        for state_indices in winning_states:\n",
    "            if all(self.state[i] == player_mark for i in state_indices):\n",
    "                self.is_terminal = True\n",
    "                return True\n",
    "        return False\n",
    "\n",
    "    def is_draw(self):\n",
    "        return 0 not in self.state\n"
   ]
  },
  {
   "cell_type": "code",
   "execution_count": 6,
   "metadata": {
    "executionInfo": {
     "elapsed": 385,
     "status": "ok",
     "timestamp": 1698316423286,
     "user": {
      "displayName": "HoD AI & DS",
      "userId": "05591951276888072574"
     },
     "user_tz": -330
    },
    "id": "zBpVOwQo6aE_"
   },
   "outputs": [],
   "source": [
    "class QLearningAgent:\n",
    "    def __init__(self, learning_rate=0.9, discount_factor=0.9, exploration_rate=0.3):\n",
    "        self.learning_rate = learning_rate\n",
    "        self.discount_factor = discount_factor\n",
    "        self.exploration_rate = exploration_rate\n",
    "        self.q_table = np.zeros((3**9, 9))\n",
    "\n",
    "    def get_state_index(self, state):\n",
    "        state_index = 0\n",
    "        for i, mark in enumerate(state):\n",
    "            state_index += (3 ** i) * (mark + 1)\n",
    "        return state_index\n",
    "\n",
    "    def choose_action(self, state, available_moves):\n",
    "        state_index = self.get_state_index(state)\n",
    "        if np.random.random() < self.exploration_rate:\n",
    "            return np.random.choice(available_moves)\n",
    "        else:\n",
    "            return np.argmax(self.q_table[state_index, available_moves])\n",
    "\n",
    "    def update_q_table(self, state, action, next_state, reward):\n",
    "        state_index = self.get_state_index(state)\n",
    "        next_state_index = self.get_state_index(next_state) if next_state is not None else None\n",
    "        max_q_value = np.max(self.q_table[next_state_index]) if next_state is not None else 0\n",
    "        self.q_table[state_index, action] = (1 - self.learning_rate) * self.q_table[state_index, action] + \\\n",
    "                                            self.learning_rate * (reward + self.discount_factor * max_q_value)\n",
    "\n"
   ]
  },
  {
   "cell_type": "code",
   "execution_count": 7,
   "metadata": {
    "executionInfo": {
     "elapsed": 406,
     "status": "ok",
     "timestamp": 1698316428606,
     "user": {
      "displayName": "HoD AI & DS",
      "userId": "05591951276888072574"
     },
     "user_tz": -330
    },
    "id": "zvT_Oxwe6hKD"
   },
   "outputs": [],
   "source": [
    "def evaluate_agents(agent1, agent2, num_episodes=1000):\n",
    "    environment = TicTacToeEnvironment()\n",
    "    agent1_wins = 0\n",
    "    agent2_wins = 0\n",
    "    draws = 0\n",
    "\n",
    "    for _ in range(num_episodes):\n",
    "        environment.reset()\n",
    "        current_agent = agent1\n",
    "        while not environment.is_terminal:\n",
    "            available_moves = environment.get_available_moves()\n",
    "            current_state = environment.state.copy()\n",
    "            action = current_agent.choose_action(current_state, available_moves)\n",
    "            environment.make_move(action, 1 if current_agent == agent1 else -1)\n",
    "\n",
    "            if environment.check_win(1 if current_agent == agent1 else -1):\n",
    "                current_agent.update_q_table(current_state, action, None, 10)\n",
    "                if current_agent == agent1:\n",
    "                    agent1_wins += 1\n",
    "                else:\n",
    "                    agent2_wins += 1\n",
    "                break\n",
    "            elif environment.is_draw():\n",
    "                current_agent.update_q_table(current_state, action, None, 0)\n",
    "                draws += 1\n",
    "                break\n",
    "\n",
    "            next_state = environment.state.copy()\n",
    "            reward = 0\n",
    "            if environment.check_win(1 if current_agent == agent1 else -1):\n",
    "                reward = -10\n",
    "            current_agent.update_q_table(current_state, action, next_state, reward)\n",
    "\n",
    "            current_agent = agent2 if current_agent == agent1 else agent1\n",
    "\n",
    "    return agent1_wins, agent2_wins, draws\n",
    "\n"
   ]
  },
  {
   "cell_type": "code",
   "execution_count": 9,
   "metadata": {
    "colab": {
     "base_uri": "https://localhost:8080/"
    },
    "executionInfo": {
     "elapsed": 1058,
     "status": "ok",
     "timestamp": 1698316432904,
     "user": {
      "displayName": "HoD AI & DS",
      "userId": "05591951276888072574"
     },
     "user_tz": -330
    },
    "id": "8v7Ftu-c6lev",
    "outputId": "e92e01fa-6ecf-4bb3-8e9d-022e839ecae7"
   },
   "outputs": [
    {
     "name": "stdout",
     "output_type": "stream",
     "text": [
      "Agent 1 wins: 517\n",
      "Agent 2 wins: 442\n",
      "Draws: 41\n"
     ]
    }
   ],
   "source": [
    "agent1 = QLearningAgent()\n",
    "agent2 = QLearningAgent()\n",
    "\n",
    "agent1_wins, agent2_wins, draws = evaluate_agents(agent1, agent2)\n",
    "\n",
    "print(f\"Agent 1 wins: {agent1_wins}\")\n",
    "print(f\"Agent 2 wins: {agent2_wins}\")\n",
    "print(f\"Draws: {draws}\")"
   ]
  },
  {
   "cell_type": "markdown",
   "metadata": {
    "id": "5MAZ4bwVhl-l"
   },
   "source": [
    "    TicTacToeEnvironment:\n",
    "        This class represents the Tic-Tac-Toe game environment. It maintains the current state of the game, checks for a win or draw, and provides methods to reset the game and make moves.\n",
    "        The __init__ method initializes the game state and sets the terminal flag to False.\n",
    "        The reset method resets the game state and the terminal flag.\n",
    "        The get_available_moves method returns a list of indices representing the available moves in the current game state.\n",
    "        The make_move method updates the game state by placing a player's mark at the specified move index.\n",
    "        The check_win method checks if a player has won the game by examining the current state.\n",
    "        The is_draw method checks if the game has ended in a draw.\n",
    "\n",
    "    QLearningAgent:\n",
    "        This class represents the Q-learning agent. It learns to play Tic-Tac-Toe by updating a Q-table based on the rewards received during gameplay.\n",
    "        The __init__ method initializes the learning rate, discount factor, exploration rate, and the Q-table.\n",
    "        The get_state_index method converts the current game state into a unique index for indexing the Q-table.\n",
    "        The choose_action method selects the action (move) to be taken based on the current game state and the exploration-exploitation tradeoff using the epsilon-greedy policy.\n",
    "        The update_q_table method updates the Q-table based on the current state, action, next state, and the reward received.\n",
    "\n",
    "    evaluate_agents:\n",
    "        This function performs the evaluation of two Q-learning agents by playing multiple episodes of Tic-Tac-Toe games.\n",
    "        It takes the two agents and the number of episodes to play as input.\n",
    "        In each episode, the environment is reset, and the agents take turns making moves until the game is over (either a win or a draw).\n",
    "        The agents update their Q-tables based on the rewards received during the episode.\n",
    "        The function keeps track of the wins and draws for each agent and returns the counts.\n",
    "\n",
    "    Main code:\n",
    "        The main code creates two Q-learning agents, agent1 and agent2, using the QLearningAgent class.\n",
    "        The evaluate_agents function is called to evaluate the agents by playing a specified number of episodes.\n",
    "        The results (number of wins and draws) for each agent are printed.\n",
    "\n",
    "The Q-learning algorithm involves the following steps:\n",
    "\n",
    "    The agents choose their moves based on the current game state and the exploration-exploitation policy.\n",
    "    The environment updates the game state based on the chosen moves.\n",
    "    The environment checks if the game has ended (win or draw).\n",
    "    The agents update their Q-tables based on the rewards received.\n",
    "    The agents continue playing until the specified number of episodes is completed."
   ]
  }
 ],
 "metadata": {
  "colab": {
   "provenance": []
  },
  "kernelspec": {
   "display_name": "Python 3 (ipykernel)",
   "language": "python",
   "name": "python3"
  },
  "language_info": {
   "codemirror_mode": {
    "name": "ipython",
    "version": 3
   },
   "file_extension": ".py",
   "mimetype": "text/x-python",
   "name": "python",
   "nbconvert_exporter": "python",
   "pygments_lexer": "ipython3",
   "version": "3.12.1"
  }
 },
 "nbformat": 4,
 "nbformat_minor": 4
}
